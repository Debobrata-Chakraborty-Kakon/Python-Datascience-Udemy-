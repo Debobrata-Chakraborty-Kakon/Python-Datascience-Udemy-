{
 "cells": [
  {
   "cell_type": "code",
   "execution_count": 70,
   "metadata": {},
   "outputs": [],
   "source": [
    "def first_prime(number_1, number_2) :\n",
    "    #todo\n",
    "    # return the first prime number between number_1 and number_2\n",
    "    n1=number_1\n",
    "    n2=number_2\n",
    "    count=0\n",
    "    i=1\n",
    "    for n1 in range(n1,n2+1):\n",
    "        for i in range(i,n1):\n",
    "               if n1%i==0:\n",
    "                    count=count+1\n",
    "                    \n",
    "        if count==2:\n",
    "            return n1\n",
    "            break\n",
    "        \n",
    "    "
   ]
  },
  {
   "cell_type": "code",
   "execution_count": 71,
   "metadata": {},
   "outputs": [
    {
     "name": "stdout",
     "output_type": "stream",
     "text": [
      "None\n"
     ]
    }
   ],
   "source": [
    "print(first_prime(10,15))"
   ]
  },
  {
   "cell_type": "code",
   "execution_count": null,
   "metadata": {},
   "outputs": [],
   "source": []
  }
 ],
 "metadata": {
  "kernelspec": {
   "display_name": "Python 3",
   "language": "python",
   "name": "python3"
  },
  "language_info": {
   "codemirror_mode": {
    "name": "ipython",
    "version": 3
   },
   "file_extension": ".py",
   "mimetype": "text/x-python",
   "name": "python",
   "nbconvert_exporter": "python",
   "pygments_lexer": "ipython3",
   "version": "3.7.1"
  }
 },
 "nbformat": 4,
 "nbformat_minor": 4
}
