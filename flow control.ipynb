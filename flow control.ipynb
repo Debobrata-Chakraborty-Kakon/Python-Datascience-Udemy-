{
 "cells": [
  {
   "cell_type": "code",
   "execution_count": 4,
   "metadata": {},
   "outputs": [],
   "source": [
    "numbers=range(10)\n"
   ]
  },
  {
   "cell_type": "code",
   "execution_count": 5,
   "metadata": {},
   "outputs": [
    {
     "data": {
      "text/plain": [
       "range(0, 10)"
      ]
     },
     "execution_count": 5,
     "metadata": {},
     "output_type": "execute_result"
    }
   ],
   "source": [
    "numbers"
   ]
  },
  {
   "cell_type": "code",
   "execution_count": 6,
   "metadata": {},
   "outputs": [
    {
     "name": "stdout",
     "output_type": "stream",
     "text": [
      "0\n",
      "1\n",
      "2\n",
      "3\n",
      "4\n",
      "5\n",
      "6\n",
      "7\n",
      "8\n",
      "9\n"
     ]
    }
   ],
   "source": [
    "for number in numbers:\n",
    "    print(number)"
   ]
  },
  {
   "cell_type": "code",
   "execution_count": 31,
   "metadata": {},
   "outputs": [
    {
     "name": "stdout",
     "output_type": "stream",
     "text": [
      "1 3 5 7 9 11 13 15 17 19 "
     ]
    }
   ],
   "source": [
    "numbers=range(20)\n",
    "for number in numbers:\n",
    "    if number%2!=0 :\n",
    "         print (number,end=\" \")"
   ]
  },
  {
   "cell_type": "code",
   "execution_count": 19,
   "metadata": {},
   "outputs": [
    {
     "name": "stdout",
     "output_type": "stream",
     "text": [
      "range(0, 5)\n"
     ]
    }
   ],
   "source": [
    " print(range(5))"
   ]
  },
  {
   "cell_type": "code",
   "execution_count": 33,
   "metadata": {},
   "outputs": [
    {
     "name": "stdout",
     "output_type": "stream",
     "text": [
      "1 3 5 7 9 11 13 15 17 19 "
     ]
    }
   ],
   "source": [
    "numbers=range(20)\n",
    "\n",
    "for odd_numbers in numbers:\n",
    "    if odd_numbers%2!=0 :\n",
    "         print (odd_numbers,end=\" \")"
   ]
  },
  {
   "cell_type": "code",
   "execution_count": 6,
   "metadata": {},
   "outputs": [],
   "source": [
    "numbers=range(21)\n",
    "odd_numbers=\"\"\n",
    "for i in numbers:\n",
    "    if i%2!=0 :\n",
    "         odd_numbers=odd_numbers+\" \"+str(i)"
   ]
  },
  {
   "cell_type": "code",
   "execution_count": 7,
   "metadata": {},
   "outputs": [
    {
     "data": {
      "text/plain": [
       "' 1 3 5 7 9 11 13 15 17 19'"
      ]
     },
     "execution_count": 7,
     "metadata": {},
     "output_type": "execute_result"
    }
   ],
   "source": [
    "odd_numbers"
   ]
  },
  {
   "cell_type": "code",
   "execution_count": 8,
   "metadata": {},
   "outputs": [
    {
     "name": "stdout",
     "output_type": "stream",
     "text": [
      "0\n",
      "1\n",
      "2\n",
      "3\n",
      "4\n",
      "5\n",
      "6\n",
      "7\n",
      "8\n",
      "9\n"
     ]
    }
   ],
   "source": [
    "count=0\n",
    "while count <10:\n",
    "    print(count)\n",
    "    count+=1"
   ]
  },
  {
   "cell_type": "code",
   "execution_count": 9,
   "metadata": {},
   "outputs": [
    {
     "name": "stdout",
     "output_type": "stream",
     "text": [
      "Move up\n",
      "5\n",
      "Move Down\n",
      "0\n",
      "Move Down\n",
      "0\n",
      "Open Door\n",
      "exit\n"
     ]
    }
   ],
   "source": [
    "user_floor=6\n",
    "current_floor=0\n",
    "\n",
    "while user_floor !=\"exit\":\n",
    "    difference= user_floor-current_floor\n",
    "    if difference<0:\n",
    "        current_floor = user_floor\n",
    "        print(\"Move Down\")\n",
    "    if difference>0:\n",
    "        current_floor=user_floor\n",
    "        print(\"Move up\")\n",
    "    if difference ==0:\n",
    "        current_floor = user_floor\n",
    "        print (\"Open Door\")\n",
    "     \n",
    "    user_floor =input()\n",
    "    if user_floor !=\"exit\":\n",
    "        user_floor=int(user_floor)"
   ]
  },
  {
   "cell_type": "code",
   "execution_count": 10,
   "metadata": {},
   "outputs": [
    {
     "data": {
      "text/plain": [
       "range(10, 2)"
      ]
     },
     "execution_count": 10,
     "metadata": {},
     "output_type": "execute_result"
    }
   ],
   "source": [
    "range(10,2)"
   ]
  },
  {
   "cell_type": "code",
   "execution_count": 16,
   "metadata": {},
   "outputs": [
    {
     "name": "stdout",
     "output_type": "stream",
     "text": [
      "0\n",
      "2\n",
      "4\n",
      "6\n",
      "8\n",
      "10\n"
     ]
    }
   ],
   "source": [
    "for n in range(0,11,2):\n",
    "    print(n)"
   ]
  },
  {
   "cell_type": "code",
   "execution_count": 12,
   "metadata": {},
   "outputs": [
    {
     "ename": "NameError",
     "evalue": "name 'number' is not defined",
     "output_type": "error",
     "traceback": [
      "\u001b[1;31m---------------------------------------------------------------------------\u001b[0m",
      "\u001b[1;31mNameError\u001b[0m                                 Traceback (most recent call last)",
      "\u001b[1;32m<ipython-input-12-d1ac3c3a168f>\u001b[0m in \u001b[0;36m<module>\u001b[1;34m\u001b[0m\n\u001b[1;32m----> 1\u001b[1;33m \u001b[0mnumber\u001b[0m\u001b[1;33m\u001b[0m\u001b[1;33m\u001b[0m\u001b[0m\n\u001b[0m",
      "\u001b[1;31mNameError\u001b[0m: name 'number' is not defined"
     ]
    }
   ],
   "source": [
    "number"
   ]
  },
  {
   "cell_type": "code",
   "execution_count": 20,
   "metadata": {},
   "outputs": [
    {
     "name": "stdout",
     "output_type": "stream",
     "text": [
      "0 1 1 2 3 5 8 13 21 34 55 89 144 233 377 610 987 1597 2584 4181 "
     ]
    }
   ],
   "source": [
    "summ=0\n",
    "n2=1\n",
    "for i in range(10):\n",
    "    n1=summ\n",
    "    n2=n1+n2\n",
    "    print(n1,n2,end=\" \")\n",
    "    summ=n1+n2"
   ]
  },
  {
   "cell_type": "code",
   "execution_count": 22,
   "metadata": {},
   "outputs": [
    {
     "name": "stdout",
     "output_type": "stream",
     "text": [
      "49\n"
     ]
    }
   ],
   "source": [
    "count=0\n",
    "for i in range(30,60):\n",
    "    if i%2!=0:\n",
    "        count+=1\n",
    "    if count==10:\n",
    "        print(i)\n",
    "        break"
   ]
  },
  {
   "cell_type": "code",
   "execution_count": 26,
   "metadata": {},
   "outputs": [
    {
     "name": "stdout",
     "output_type": "stream",
     "text": [
      "2 is not prime number\n",
      "3 is prime number\n",
      "4 is not prime number\n",
      "5 is prime number\n",
      "6 is not prime number\n",
      "7 is prime number\n",
      "8 is not prime number\n",
      "9 is not prime number\n",
      "10 is not prime number\n",
      "11 is prime number\n",
      "12 is not prime number\n",
      "13 is prime number\n",
      "14 is not prime number\n",
      "15 is not prime number\n",
      "16 is not prime number\n",
      "17 is prime number\n",
      "18 is not prime number\n",
      "19 is prime number\n",
      "20 is not prime number\n",
      "21 is not prime number\n",
      "22 is not prime number\n",
      "23 is prime number\n",
      "24 is not prime number\n",
      "25 is not prime number\n",
      "26 is not prime number\n",
      "27 is not prime number\n",
      "28 is not prime number\n",
      "29 is prime number\n",
      "30 is not prime number\n",
      "31 is prime number\n",
      "32 is not prime number\n",
      "33 is not prime number\n",
      "34 is not prime number\n",
      "35 is not prime number\n",
      "36 is not prime number\n",
      "37 is prime number\n",
      "38 is not prime number\n",
      "39 is not prime number\n",
      "40 is not prime number\n",
      "41 is prime number\n",
      "42 is not prime number\n",
      "43 is prime number\n",
      "44 is not prime number\n",
      "45 is not prime number\n",
      "46 is not prime number\n",
      "47 is prime number\n",
      "48 is not prime number\n",
      "49 is not prime number\n"
     ]
    }
   ],
   "source": [
    "for i in range(2,50):\n",
    "    for j in range(2,int(i/2)+2):\n",
    "        if i%j==0:\n",
    "            print(i,\"is not prime number\")\n",
    "            break\n",
    "    else :\n",
    "        print(i,\"is prime number\")"
   ]
  },
  {
   "cell_type": "code",
   "execution_count": 32,
   "metadata": {},
   "outputs": [
    {
     "name": "stdout",
     "output_type": "stream",
     "text": [
      "1 \n",
      "2 2 \n",
      "3 3 3 \n",
      "4 4 4 4 \n",
      "5 5 5 5 5 \n",
      "6 6 6 6 6 6 \n",
      "7 7 7 7 7 7 7 \n",
      "8 8 8 8 8 8 8 8 \n",
      "9 9 9 9 9 9 9 9 9 \n",
      "10 10 10 10 10 10 10 10 10 10 \n"
     ]
    }
   ],
   "source": [
    "for i in range(1,11):\n",
    "    for j in range(0,i):\n",
    "        print(i,end=\" \")\n",
    "    print()"
   ]
  },
  {
   "cell_type": "code",
   "execution_count": null,
   "metadata": {},
   "outputs": [],
   "source": []
  }
 ],
 "metadata": {
  "kernelspec": {
   "display_name": "Python 3",
   "language": "python",
   "name": "python3"
  },
  "language_info": {
   "codemirror_mode": {
    "name": "ipython",
    "version": 3
   },
   "file_extension": ".py",
   "mimetype": "text/x-python",
   "name": "python",
   "nbconvert_exporter": "python",
   "pygments_lexer": "ipython3",
   "version": "3.7.1"
  }
 },
 "nbformat": 4,
 "nbformat_minor": 4
}
